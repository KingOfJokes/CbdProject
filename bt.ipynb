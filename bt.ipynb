{
 "cells": [
  {
   "cell_type": "code",
   "execution_count": 159,
   "metadata": {},
   "outputs": [],
   "source": [
    "import pandas as pd\n",
    "import re        #正規運算式\n",
    "import math\n",
    "import time\n",
    "import numpy as np \n",
    "import csv\n",
    "from datetime import datetime, timedelta\n",
    "from datetime import date\n",
    "import pickle\n",
    "import os"
   ]
  },
  {
   "cell_type": "code",
   "execution_count": 160,
   "metadata": {},
   "outputs": [],
   "source": [
    "bbs = pd.read_excel('./bbs.xlsx')\n",
    "forum = pd.read_excel('./forum.xlsx')\n",
    "news = pd.read_excel('./news.xlsx')\n",
    "collections = pd.concat([bbs,forum,news],axis=0, ignore_index=True,sort=False)"
   ]
  },
  {
   "cell_type": "code",
   "execution_count": 161,
   "metadata": {},
   "outputs": [],
   "source": [
    "Indexprice = pd.read_excel('./Index_3.xlsx')"
   ]
  },
  {
   "cell_type": "code",
   "execution_count": 162,
   "metadata": {},
   "outputs": [],
   "source": [
    "def normal(xdict):\n",
    "    temp = []\n",
    "    for key in xdict.keys():\n",
    "        temp.append(xdict[key])\n",
    "    n = np.asarray(temp)\n",
    "    if np.sum(n * n) == 0:\n",
    "        outvec = temp\n",
    "    else:\n",
    "        outvec = n / (np.sum(n * n) ** 0.5)\n",
    "        outvec = outvec.tolist()\n",
    "    return outvec"
   ]
  },
  {
   "cell_type": "code",
   "execution_count": 163,
   "metadata": {},
   "outputs": [],
   "source": [
    "def remove_stopwords(content):\n",
    "    content = re.sub(r'[^\\w]','',content)        #移除非文字字元(符號)\n",
    "    content = re.sub(r'[A-Za-z0-9]','',content)  #移除英文&數字\n",
    "    '''\n",
    "    for s in stopword:\n",
    "        print(s)\n",
    "        re.sub(s,'',content)\n",
    "    '''\n",
    "    return content"
   ]
  },
  {
   "cell_type": "code",
   "execution_count": 189,
   "metadata": {},
   "outputs": [],
   "source": [
    "def getready(wn):\n",
    "    global xs,start_date,end_date,model,keywb\n",
    "    #incwordbank = np.load('./bt/increaseword_period'+str(ver)+'_3d1.2atr3_wb.pkl',allow_pickle = True)\n",
    "    #decwordbank = np.load('./bt/decreaseword_period'+str(ver)+'_3d1.2atr3_wb.pkl',allow_pickle = True)\n",
    "    xs = np.load('./bt/btxa/output_X_period'+str(wn)+'_3d1.2atr3_dc21.npy',allow_pickle = True)\n",
    "    #wordbank = dict(incwordbank,**decwordbank)\n",
    "    sy = 2016\n",
    "    sm = 4 + wn\n",
    "    ey = 2016\n",
    "    em = 5 + wn\n",
    "    while sm > 12:\n",
    "        sy = sy + 1\n",
    "        sm = sm - 12      \n",
    "    while em > 12:\n",
    "        ey = ey + 1\n",
    "        em = em - 12\n",
    "        \n",
    "    start_date = datetime(sy,sm,1)\n",
    "    end_date = datetime(ey,em,1)\n",
    "    if wn == 32:\n",
    "        end_date = datetime(2018,12,26)\n",
    "        \n",
    "    keywb = xs[0].keys()"
   ]
  },
  {
   "cell_type": "code",
   "execution_count": 190,
   "metadata": {},
   "outputs": [
    {
     "name": "stdout",
     "output_type": "stream",
     "text": [
      "[datetime.date(2018, 12, 3), datetime.date(2018, 12, 4), datetime.date(2018, 12, 5), datetime.date(2018, 12, 6), datetime.date(2018, 12, 7), datetime.date(2018, 12, 10), datetime.date(2018, 12, 11), datetime.date(2018, 12, 12), datetime.date(2018, 12, 13), datetime.date(2018, 12, 14), datetime.date(2018, 12, 17), datetime.date(2018, 12, 18), datetime.date(2018, 12, 19), datetime.date(2018, 12, 20), datetime.date(2018, 12, 21), datetime.date(2018, 12, 22), datetime.date(2018, 12, 24), datetime.date(2018, 12, 25)]\n",
      "文章數: 973\n",
      "[[716, array([[21, 46]])], [717, array([[16, 51]])], [718, array([[25, 49]])], [719, array([[22, 41]])], [720, array([[15, 34]])], [721, array([[24, 39]])], [722, array([[30, 59]])], [723, array([[14, 25]])], [724, array([[11, 26]])], [725, array([[23, 57]])], [726, array([[14, 34]])], [727, array([[10, 35]])], [728, array([[11, 23]])], [729, array([[ 8, 21]])], [730, array([[13, 24]])], [731, array([[17, 33]])], [732, array([[ 4, 18]])], [733, array([[15, 30]])]]\n",
      "判別文章數: 938\n",
      "  ROWname  Value\n",
      "0      TP      0\n",
      "1      FP      0\n",
      "2      TN     10\n",
      "3      FN      8\n",
      "4  giveup      0\n"
     ]
    }
   ],
   "source": [
    "for ver in range(32,33):\n",
    "    getready(ver)\n",
    "    \n",
    "    def arttodict(art):\n",
    "        temp = {}\n",
    "        for word in keywb:\n",
    "            temp[word] = art.count(word)\n",
    "        return temp\n",
    "    \n",
    "    with open('./bt/model/output_X_period'+str(ver)+'_3d1.2model.pickle','rb') as f:\n",
    "        model = pickle.load(f)\n",
    "        \n",
    "    filtered_list_apple_noENG = []\n",
    "    for index,value in collections.iterrows():\n",
    "        if (start_date <= value[\"post_time\"].to_pydatetime()) and (end_date >=value[\"post_time\"].to_pydatetime()):\n",
    "            if (\"蘋果\" in (str(value[\"content\"])+str(value[\"title\"]))) or(\"蘋概股\" in (str(value[\"content\"])+str(value[\"title\"]))):\n",
    "                filtered_list_apple_noENG.append([value[\"post_time\"].to_pydatetime(),str(value[\"title\"])+str(value[\"content\"])])\n",
    "\n",
    "    Index_date = []\n",
    "    for i in range(Indexprice.shape[0]):\n",
    "        Index_date.append(Indexprice.iloc[i][0].date())\n",
    "\n",
    "    for i in range(len(filtered_list_apple_noENG)):\n",
    "        if filtered_list_apple_noENG[i][0].date() >= datetime(2016,1,4).date():\n",
    "            while filtered_list_apple_noENG[i][0].date() not in Index_date:\n",
    "                filtered_list_apple_noENG[i][0] = filtered_list_apple_noENG[i][0] - timedelta(days=1)\n",
    "    \n",
    "    Index_date_shred = []\n",
    "    shred_dict = {}\n",
    "    for d in Index_date:\n",
    "        if d >= start_date.date() and d < end_date.date():\n",
    "            Index_date_shred.append(d)\n",
    "            shred_dict[d] = []\n",
    "        elif d >= end_date.date():\n",
    "            break\n",
    "    print(Index_date_shred)\n",
    "    \n",
    "    print('文章數:',len(filtered_list_apple_noENG))\n",
    "    for arts in filtered_list_apple_noENG:\n",
    "        if arts[0].date() in Index_date_shred:\n",
    "            shred_dict[arts[0].date()].append(remove_stopwords(arts[1]))\n",
    "    \n",
    "    vector_dict = {}\n",
    "    for d in Index_date_shred:\n",
    "        vector_dict[d] = []\n",
    "    #print(shred_dict)\n",
    "\n",
    "    for key in vector_dict:\n",
    "        for art in shred_dict[key]:\n",
    "            vector_dict[key].append(arttodict(art))\n",
    "    \n",
    "    vote = []\n",
    "    for daykey in vector_dict:\n",
    "        index = Index_date.index(daykey)\n",
    "        res = np.array([0,0])\n",
    "        for vec in vector_dict[daykey]:\n",
    "            #print(vec)\n",
    "            nvec = [normal(vec)]\n",
    "            ticket = model.predict(nvec)\n",
    "            res = res +ticket\n",
    "        temp = [index,res]\n",
    "        vote.append(temp)\n",
    "    \n",
    "    print(vote)\n",
    "    board = 0\n",
    "    for indv in vote:\n",
    "        artnum = np.sum(indv[1])\n",
    "        board += artnum\n",
    "    print('判別文章數:',board)\n",
    "    \n",
    "    finalvote = []\n",
    "    for v in vote:\n",
    "        index = v[0]\n",
    "        pos_tic = (v[1][0,0])\n",
    "        neg_tic = (v[1][0,1])\n",
    "        total_tic = pos_tic + neg_tic\n",
    "        if total_tic!=0:\n",
    "            if (pos_tic/total_tic) > 0.6 :\n",
    "                finalvote.append([index,1])\n",
    "            elif (pos_tic/total_tic) < 0.4 :\n",
    "                finalvote.append([index,-1])\n",
    "            else:\n",
    "                finalvote.append([index,0])\n",
    "        else:\n",
    "            finalvote.append([index,0])\n",
    "    \n",
    "    TP = 0\n",
    "    FP = 0\n",
    "    TN = 0\n",
    "    FN = 0\n",
    "    giveup = 0\n",
    "    for fv in finalvote:\n",
    "        date = fv[0]\n",
    "        if fv[1] == 0:\n",
    "            giveup = giveup + 1\n",
    "        elif fv[1] == 1:\n",
    "            if Indexprice.iloc[date+3,4] >= Indexprice.iloc[date,4]:\n",
    "                TP = TP + 1\n",
    "            elif Indexprice.iloc[date+3,4] < Indexprice.iloc[date,4]:\n",
    "                FP = FP + 1\n",
    "        elif fv[1] == -1:\n",
    "            if Indexprice.iloc[date+3,4] >= Indexprice.iloc[date,4]:\n",
    "                FN = FN + 1\n",
    "            elif Indexprice.iloc[date+3,4] < Indexprice.iloc[date,4]:\n",
    "                TN = TN + 1\n",
    "\n",
    "    output = [TP,FP,TN,FN,giveup]\n",
    "    rowname = ['TP','FP','TN','FN','giveup']\n",
    "    dataframe = pd.DataFrame({'ROWname':rowname,'Value':output})\n",
    "    print(dataframe)\n",
    "    dataframe.to_csv('hardtrainresult'+str(ver)+'.csv',index=False,sep=',')"
   ]
  },
  {
   "cell_type": "code",
   "execution_count": 150,
   "metadata": {},
   "outputs": [],
   "source": [
    "filtered_list_apple_noENG = []\n",
    "for index,value in collections.iterrows():\n",
    "    if (start_date <= value[\"post_time\"].to_pydatetime()) and (end_date >=value[\"post_time\"].to_pydatetime()):\n",
    "        if (\"蘋果\" in (str(value[\"content\"])+str(value[\"title\"]))) or(\"蘋概股\" in (str(value[\"content\"])+str(value[\"title\"]))):\n",
    "            filtered_list_apple_noENG.append([value[\"post_time\"].to_pydatetime(),str(value[\"title\"])+str(value[\"content\"])])\n",
    "\n",
    "Index_date = []\n",
    "for i in range(Indexprice.shape[0]):\n",
    "    Index_date.append(Indexprice.iloc[i][0].date())\n",
    "\n",
    "for i in range(len(filtered_list_apple_noENG)):\n",
    "    if filtered_list_apple_noENG[i][0].date() >= datetime(2016,1,4).date():\n",
    "        while filtered_list_apple_noENG[i][0].date() not in Index_date:\n",
    "            filtered_list_apple_noENG[i][0] = filtered_list_apple_noENG[i][0] - timedelta(days=1)"
   ]
  },
  {
   "cell_type": "code",
   "execution_count": 151,
   "metadata": {},
   "outputs": [
    {
     "name": "stdout",
     "output_type": "stream",
     "text": [
      "[datetime.date(2016, 4, 1), datetime.date(2016, 4, 6), datetime.date(2016, 4, 7), datetime.date(2016, 4, 8), datetime.date(2016, 4, 11), datetime.date(2016, 4, 12), datetime.date(2016, 4, 13), datetime.date(2016, 4, 14), datetime.date(2016, 4, 15), datetime.date(2016, 4, 18), datetime.date(2016, 4, 19), datetime.date(2016, 4, 20), datetime.date(2016, 4, 21), datetime.date(2016, 4, 22), datetime.date(2016, 4, 25), datetime.date(2016, 4, 26), datetime.date(2016, 4, 27), datetime.date(2016, 4, 28), datetime.date(2016, 4, 29)]\n"
     ]
    }
   ],
   "source": [
    "Index_date_shred = []\n",
    "shred_dict = {}\n",
    "for d in Index_date:\n",
    "    if d >= start_date.date() and d < end_date.date():\n",
    "        Index_date_shred.append(d)\n",
    "        shred_dict[d] = []\n",
    "    elif d >= end_date.date():\n",
    "        break\n",
    "print(Index_date_shred)"
   ]
  },
  {
   "cell_type": "code",
   "execution_count": 152,
   "metadata": {},
   "outputs": [
    {
     "name": "stdout",
     "output_type": "stream",
     "text": [
      "405\n"
     ]
    }
   ],
   "source": [
    "print(len(filtered_list_apple_noENG))\n",
    "for arts in filtered_list_apple_noENG:\n",
    "    if arts[0].date() in Index_date_shred:\n",
    "        shred_dict[arts[0].date()].append(remove_stopwords(arts[1]))"
   ]
  },
  {
   "cell_type": "code",
   "execution_count": 153,
   "metadata": {},
   "outputs": [],
   "source": [
    "vector_dict = {}\n",
    "for d in Index_date_shred:\n",
    "    vector_dict[d] = []\n",
    "#print(shred_dict)\n",
    "\n",
    "for key in vector_dict:\n",
    "    for art in shred_dict[key]:\n",
    "        vector_dict[key].append(arttodict(art))"
   ]
  },
  {
   "cell_type": "code",
   "execution_count": 154,
   "metadata": {},
   "outputs": [],
   "source": [
    "vote = []\n",
    "for daykey in vector_dict:\n",
    "    index = Index_date.index(daykey)\n",
    "    res = np.array([0,0])\n",
    "    for vec in vector_dict[daykey]:\n",
    "        #print(vec)\n",
    "        nvec = [normal(vec)]\n",
    "        ticket = model.predict(nvec)\n",
    "        res = res +ticket\n",
    "    temp = [index,res]\n",
    "    vote.append(temp)"
   ]
  },
  {
   "cell_type": "code",
   "execution_count": 155,
   "metadata": {},
   "outputs": [
    {
     "name": "stdout",
     "output_type": "stream",
     "text": [
      "[[57, array([[21,  2]])], [58, array([[18,  0]])], [59, array([[11,  2]])], [60, array([[18,  1]])], [61, array([[16,  0]])], [62, array([[4, 0]])], [63, array([[14,  1]])], [64, array([[12,  0]])], [65, array([[26,  1]])], [66, array([[15,  4]])], [67, array([[17,  6]])], [68, array([[21,  1]])], [69, array([[13,  2]])], [70, array([[20,  1]])], [71, array([[28,  2]])], [72, array([[21,  2]])], [73, array([[39,  2]])], [74, array([[20,  1]])], [75, array([[35,  3]])]]\n",
      "400\n"
     ]
    }
   ],
   "source": [
    "print(vote)\n",
    "board = 0\n",
    "for indv in vote:\n",
    "    artnum = np.sum(indv[1])\n",
    "    board += artnum\n",
    "print(board)"
   ]
  },
  {
   "cell_type": "code",
   "execution_count": 156,
   "metadata": {},
   "outputs": [],
   "source": [
    "finalvote = []\n",
    "for v in vote:\n",
    "    index = v[0]\n",
    "    pos_tic = (v[1][0,0])\n",
    "    neg_tic = (v[1][0,1])\n",
    "    total_tic = pos_tic + neg_tic\n",
    "    if total_tic!=0:\n",
    "        if (pos_tic/total_tic) > 0.6 :\n",
    "            finalvote.append([index,1])\n",
    "        elif (pos_tic/total_tic) < 0.4 :\n",
    "            finalvote.append([index,-1])\n",
    "        else:\n",
    "            finalvote.append([index,0])\n",
    "    else:\n",
    "        finalvote.append([index,0])\n",
    "    "
   ]
  },
  {
   "cell_type": "code",
   "execution_count": 157,
   "metadata": {},
   "outputs": [
    {
     "name": "stdout",
     "output_type": "stream",
     "text": [
      "108.96105696251746 111.54599024311085\n",
      "110.42661879502758 110.29071202301624\n",
      "106.60195881551502 111.2254936762782\n",
      "108.15880131579394 108.96105696251746\n",
      "107.21861043777534 110.42661879502758\n",
      "109.80996717276726 106.60195881551502\n",
      "108.42081063994509 108.15880131579394\n",
      "105.78313741797416 107.21861043777534\n",
      "104.70399707901863 109.80996717276726\n",
      "105.06675321426277 108.42081063994509\n",
      "100.86615211416168 105.78313741797416\n",
      "98.84073551933629 104.70399707901863\n",
      "101.65150393352063 105.06675321426277\n",
      "101.14269872984643 100.86615211416168\n",
      "100.68359077862412 98.84073551933629\n",
      "101.16534985851497 101.65150393352063\n",
      "101.56935133252871 101.14269872984643\n",
      "100.91213052459341 100.68359077862412\n",
      "101.32931698395153 101.16534985851497\n",
      "  ROWname  Value\n",
      "0      TP      8\n",
      "1      FP     11\n",
      "2      TN      0\n",
      "3      FN      0\n",
      "4  giveup      0\n"
     ]
    }
   ],
   "source": [
    "TP = 0\n",
    "FP = 0\n",
    "TN = 0\n",
    "FN = 0\n",
    "giveup = 0\n",
    "for fv in finalvote:\n",
    "    date = fv[0]\n",
    "    print(Indexprice.iloc[date+3,4],Indexprice.iloc[date,4])\n",
    "    if fv[1] == 0:\n",
    "        giveup = giveup + 1\n",
    "    elif fv[1] == 1:\n",
    "        if Indexprice.iloc[date+3,4] >= Indexprice.iloc[date,4]:\n",
    "            TP = TP + 1\n",
    "        elif Indexprice.iloc[date+3,4] < Indexprice.iloc[date,4]:\n",
    "            FP = FP + 1\n",
    "    elif fv[1] == -1:\n",
    "        if Indexprice.iloc[date+3,4] >= Indexprice.iloc[date,4]:\n",
    "            FN = FN + 1\n",
    "        elif Indexprice.iloc[date+3,4] < Indexprice.iloc[date,4]:\n",
    "            TN = TN + 1\n",
    "            \n",
    "output = [TP,FP,TN,FN,giveup]\n",
    "rowname = ['TP','FP','TN','FN','giveup']\n",
    "dataframe = pd.DataFrame({'ROWname':rowname,'Value':output})\n",
    "print(dataframe)\n",
    "dataframe.to_csv('playbtresult'+str(ver)+'.csv',index=False,sep=',')\n"
   ]
  },
  {
   "cell_type": "code",
   "execution_count": null,
   "metadata": {},
   "outputs": [],
   "source": []
  }
 ],
 "metadata": {
  "kernelspec": {
   "display_name": "Python 3",
   "language": "python",
   "name": "python3"
  },
  "language_info": {
   "codemirror_mode": {
    "name": "ipython",
    "version": 3
   },
   "file_extension": ".py",
   "mimetype": "text/x-python",
   "name": "python",
   "nbconvert_exporter": "python",
   "pygments_lexer": "ipython3",
   "version": "3.6.5"
  }
 },
 "nbformat": 4,
 "nbformat_minor": 2
}

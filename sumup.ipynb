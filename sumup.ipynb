{
 "cells": [
  {
   "cell_type": "code",
   "execution_count": 19,
   "metadata": {},
   "outputs": [],
   "source": [
    "import csv\n",
    "import os\n",
    "import pandas as pd\n",
    "import numpy as np"
   ]
  },
  {
   "cell_type": "code",
   "execution_count": 5,
   "metadata": {},
   "outputs": [],
   "source": [
    "files = os.listdir('./bt1')"
   ]
  },
  {
   "cell_type": "code",
   "execution_count": 45,
   "metadata": {},
   "outputs": [
    {
     "name": "stdout",
     "output_type": "stream",
     "text": [
      "     0   1   2   3       4         5         6\n",
      "0   TP  FP  TN  FN  giveup      Acc.    Recall\n",
      "1    8  11   0   0       0  0.421053         1\n",
      "2    0   0   3  18       0  0.142857         1\n",
      "3    8   7   0   0       3  0.444444  0.833333\n",
      "4   14   9   0   0       0  0.608696         1\n",
      "5   11   7   0   0       0  0.611111         1\n",
      "6    8  12   0   0       0       0.4         1\n",
      "7   11   6   2   0       4  0.565217  0.826087\n",
      "8    0   0   5  11       5  0.238095  0.761905\n",
      "9   14   7   0   0       2  0.608696  0.913043\n",
      "10  12  10   0   0       0  0.545455         1\n",
      "11   1   0   5   5       8  0.315789  0.578947\n",
      "12   0   0  16   4       2  0.727273  0.909091\n",
      "13   1   2   2   7       9  0.142857  0.571429\n",
      "14   0   0  11   9       1   0.52381  0.952381\n",
      "15   0   1   5   6      10  0.227273  0.545455\n",
      "16   0   0   8   5       0  0.615385         1\n",
      "17   0   0  16   4       3  0.695652  0.869565\n",
      "18   0   0   6  11       1  0.333333  0.944444\n",
      "19   0   1   3   8      10  0.136364  0.545455\n",
      "20   0   1   3   4      12      0.15       0.4\n",
      "21   7   8   0   0       7  0.318182  0.681818\n",
      "22  12  11   0   0       0  0.521739         1\n",
      "23   3   9   0   0       7  0.157895  0.631579\n",
      "24  10   6   0   0       4       0.5       0.8\n",
      "25   1   3   3   0      15  0.181818  0.318182\n",
      "26   0   0  10  12       0  0.454545         1\n",
      "27   0   0  10   8       0  0.555556         1\n",
      "28  14   9   0   0       0  0.608696         1\n",
      "29   8   7   0   0       4  0.421053  0.789474\n",
      "30   4  13   0   0       3       0.2      0.85\n",
      "31   2   0   3   5      12  0.227273  0.454545\n",
      "32   0   0   6   9       7  0.272727  0.681818\n",
      "33   0   0   1  13       2    0.0625     0.875\n"
     ]
    }
   ],
   "source": [
    "result = [['TP','FP','TN','FN','giveup','Acc.','Recall']]\n",
    "for filename in files:\n",
    "    a = pd.read_csv('./bt1/'+filename)\n",
    "    b = a.values\n",
    "    c = b[:,1].tolist()\n",
    "    summ = sum(c)\n",
    "    c.append((c[0]+c[2])/summ)\n",
    "    c.append((c[0]+c[1]+c[2]+c[3])/summ)\n",
    "    result.append(c)\n",
    "print(pd.DataFrame(result))\n",
    "dataframe = pd.DataFrame(result)\n",
    "dataframe.to_csv('hardtrainresult_1.2atr3d_dc21.csv',index=False,sep=',')"
   ]
  },
  {
   "cell_type": "code",
   "execution_count": null,
   "metadata": {},
   "outputs": [],
   "source": []
  }
 ],
 "metadata": {
  "kernelspec": {
   "display_name": "Python 3",
   "language": "python",
   "name": "python3"
  },
  "language_info": {
   "codemirror_mode": {
    "name": "ipython",
    "version": 3
   },
   "file_extension": ".py",
   "mimetype": "text/x-python",
   "name": "python",
   "nbconvert_exporter": "python",
   "pygments_lexer": "ipython3",
   "version": "3.6.5"
  }
 },
 "nbformat": 4,
 "nbformat_minor": 2
}

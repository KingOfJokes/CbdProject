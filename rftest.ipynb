{
 "cells": [
  {
   "cell_type": "code",
   "execution_count": 39,
   "metadata": {},
   "outputs": [],
   "source": [
    "import sklearn as skl\n",
    "from sklearn.ensemble import RandomForestClassifier\n",
    "import pandas as pd\n",
    "import math\n",
    "import re\n",
    "import numpy as np\n",
    "import pickle\n",
    "import random\n",
    "import time\n",
    "import os\n",
    "from sklearn import metrics"
   ]
  },
  {
   "cell_type": "code",
   "execution_count": 69,
   "metadata": {},
   "outputs": [],
   "source": [
    "Xs = os.listdir('./testhouse_xa')\n",
    "Ys = os.listdir('./testhouse_y')"
   ]
  },
  {
   "cell_type": "code",
   "execution_count": 70,
   "metadata": {},
   "outputs": [
    {
     "name": "stdout",
     "output_type": "stream",
     "text": [
      "output_Xa_semi3y_5d2atr5mktc_dc11.npy\n",
      "output_Y_semi3y_5d2atr5mktc_dc11.npy\n",
      "output_Xa_semi3y_5d2atr5mktc_dfsort_ddc11.npy\n",
      "output_Y_semi3y_5d2atr5mktc_dfsort_ddc11.npy\n",
      "output_Xa_semi3y_5d2atr5mktc_dfsort_ddc12.npy\n",
      "output_Y_semi3y_5d2atr5mktc_dfsort_ddc12.npy\n",
      "output_Xa_semi3y_5d2atr5mktc_dfsort_ddc13.npy\n",
      "output_Y_semi3y_5d2atr5mktc_dfsort_ddc13.npy\n",
      "output_Xa_semi3y_5d2atr5mktc_dfsort_ddc14.npy\n",
      "output_Y_semi3y_5d2atr5mktc_dfsort_ddc14.npy\n",
      "output_Xa_semi3y_5d2atr5mktc_dfsort_ddc15.npy\n",
      "output_Y_semi3y_5d2atr5mktc_dfsort_ddc15.npy\n",
      "output_Xa_semi3y_5d2atr5mktc_dfsort_ddc16.npy\n",
      "output_Y_semi3y_5d2atr5mktc_dfsort_ddc16.npy\n"
     ]
    }
   ],
   "source": [
    "for i in range(len(Xs)):\n",
    "    print(Xs[i])\n",
    "    print(Ys[i])"
   ]
  },
  {
   "cell_type": "code",
   "execution_count": 72,
   "metadata": {},
   "outputs": [
    {
     "name": "stdout",
     "output_type": "stream",
     "text": [
      "output_Xa_semi3y_5d2atr5mktc_dc11.npy output_Y_semi3y_5d2atr5mktc_dc11.npy\n",
      "2388\n",
      "IS: 0.7836304700162074\n",
      "OS: 0.6761133603238867\n",
      "IS: 0.7850486223662885\n",
      "OS: 0.6672064777327935\n",
      "IS: 0.9596827495042961\n",
      "OS: 0.726552179656539\n",
      "IS: 0.9610046265697291\n",
      "OS: 0.7212681638044914\n",
      "output_Xa_semi3y_5d2atr5mktc_dfsort_ddc11.npy output_Y_semi3y_5d2atr5mktc_dfsort_ddc11.npy\n",
      "2938\n",
      "IS: 0.751418152350081\n",
      "OS: 0.6728744939271255\n",
      "IS: 0.7512155591572123\n",
      "OS: 0.6623481781376518\n",
      "IS: 0.9721577726218097\n",
      "OS: 0.767387944358578\n",
      "IS: 0.9715777262180975\n",
      "OS: 0.7797527047913446\n",
      "output_Xa_semi3y_5d2atr5mktc_dfsort_ddc12.npy output_Y_semi3y_5d2atr5mktc_dfsort_ddc12.npy\n",
      "3725\n",
      "IS: 0.6871961102106969\n",
      "OS: 0.6331983805668017\n",
      "IS: 0.6888168557536467\n",
      "OS: 0.6283400809716599\n",
      "IS: 0.9683026584867076\n",
      "OS: 0.789795918367347\n",
      "IS: 0.9677914110429447\n",
      "OS: 0.810204081632653\n",
      "output_Xa_semi3y_5d2atr5mktc_dfsort_ddc13.npy output_Y_semi3y_5d2atr5mktc_dfsort_ddc13.npy\n",
      "4041\n",
      "IS: 0.6667341977309562\n",
      "OS: 0.6080971659919029\n",
      "IS: 0.6689627228525121\n",
      "OS: 0.6218623481781377\n",
      "IS: 0.9630281690140845\n",
      "OS: 0.8192488262910798\n",
      "IS: 0.9618544600938967\n",
      "OS: 0.8333333333333334\n",
      "output_Xa_semi3y_5d2atr5mktc_dfsort_ddc14.npy output_Y_semi3y_5d2atr5mktc_dfsort_ddc14.npy\n",
      "4425\n",
      "IS: 0.6302674230145867\n",
      "OS: 0.6380566801619433\n",
      "IS: 0.6389789303079416\n",
      "OS: 0.6040485829959514\n",
      "IS: 0.9584527220630372\n",
      "OS: 0.88\n",
      "IS: 0.9613180515759312\n",
      "OS: 0.8685714285714285\n",
      "output_Xa_semi3y_5d2atr5mktc_dfsort_ddc15.npy output_Y_semi3y_5d2atr5mktc_dfsort_ddc15.npy\n",
      "4703\n",
      "IS: 0.6225688816855753\n",
      "OS: 0.5959514170040486\n",
      "IS: 0.6162884927066451\n",
      "OS: 0.6178137651821862\n",
      "IS: 0.9633730834752982\n",
      "OS: 0.8877551020408163\n",
      "IS: 0.9616695059625213\n",
      "OS: 0.9183673469387755\n",
      "output_Xa_semi3y_5d2atr5mktc_dfsort_ddc16.npy output_Y_semi3y_5d2atr5mktc_dfsort_ddc16.npy\n",
      "4842\n",
      "IS: 0.6120340356564019\n",
      "OS: 0.6145748987854251\n",
      "IS: 0.6102106969205835\n",
      "OS: 0.6161943319838057\n",
      "IS: 0.9717779868297272\n",
      "OS: 0.8909774436090225\n",
      "IS: 0.9698965192850423\n",
      "OS: 0.8984962406015038\n"
     ]
    }
   ],
   "source": [
    "isaccs = []\n",
    "osaccs = []\n",
    "aisaccs = []\n",
    "aosaccs = []\n",
    "for i in range(len(Xs)):\n",
    "    print(Xs[i],Ys[i])\n",
    "    x = np.load('./testhouse_xa/'+Xs[i],allow_pickle = True)\n",
    "    x_list = x.tolist()\n",
    "    x_array = []\n",
    "    y = np.load('./testhouse_y/'+Ys[i],allow_pickle = True)\n",
    "    y_array = y.tolist()\n",
    "    \n",
    "    ay_array = []\n",
    "    ax_array = []\n",
    "    ng = 0\n",
    "    for j in range(len(x_list)):\n",
    "        temp = []\n",
    "        for key in x_list[j].keys():\n",
    "            temp.append(x_list[j][key])\n",
    "        x_array.append(temp)\n",
    "    \n",
    "    for v in range(len(x_array)):\n",
    "        temp = np.asarray(x_array[v])\n",
    "        temp2 = temp*temp        \n",
    "        leng = np.sum(temp2)\n",
    "        #print(leng)\n",
    "        if leng == 0:\n",
    "            ng = ng + 1\n",
    "        else:\n",
    "            x_array[v] = temp / ((leng) ** 0.5)\n",
    "            x_array[v] = x_array[v].tolist()\n",
    "            ax_array.append(x_array[v])\n",
    "            ay_array.append(y_array[v])       \n",
    "    print(ng)\n",
    "    \n",
    "    isaccsum = 0\n",
    "    osaccsum = 0\n",
    "    for i in range(2):\n",
    "        merge = list(zip(x_array,y_array))\n",
    "        random.shuffle(merge)\n",
    "        x_array,y_array = zip(*merge)\n",
    "\n",
    "        lenth = len(x_array)\n",
    "        ratio = 0.8\n",
    "        split = int(lenth * ratio)\n",
    "        x_train = x_array[:split]\n",
    "        y_train = y_array[:split]\n",
    "        x_test = x_array[split:]\n",
    "        y_test = y_array[split:]\n",
    "        random_forest = RandomForestClassifier(n_estimators = 100)\n",
    "\n",
    "        model = random_forest.fit(x_train,y_train)\n",
    "        outsample = model.predict(x_test)\n",
    "        insample = model.predict(x_train)\n",
    "        \n",
    "        osaccuracy = np.mean(outsample == y_test)\n",
    "        isaccuracy = np.mean(insample == y_train)\n",
    "        \n",
    "        print('IS:',isaccuracy)\n",
    "        print('OS:',osaccuracy)\n",
    "        \n",
    "        isaccsum = isaccsum + isaccuracy\n",
    "        osaccsum = osaccsum + osaccuracy  \n",
    "    isaccs.append(isaccsum/2)\n",
    "    osaccs.append(osaccsum/2)\n",
    "    \n",
    "    aisaccsum = 0\n",
    "    aosaccsum = 0\n",
    "    for i in range(2):\n",
    "        amerge = list(zip(ax_array,ay_array))\n",
    "        random.shuffle(amerge)\n",
    "        ax_array,ay_array = zip(*amerge)\n",
    "\n",
    "        alenth = len(ax_array)\n",
    "        ratio = 0.8\n",
    "        asplit = int(alenth * ratio)\n",
    "        ax_train = ax_array[:asplit]\n",
    "        ay_train = ay_array[:asplit]\n",
    "        ax_test = ax_array[asplit:]\n",
    "        ay_test = ay_array[asplit:]\n",
    "        arandom_forest = RandomForestClassifier(n_estimators = 100)\n",
    "\n",
    "        amodel = random_forest.fit(ax_train,ay_train)\n",
    "        aoutsample = amodel.predict(ax_test)\n",
    "        ainsample = amodel.predict(ax_train)\n",
    "        \n",
    "        aosaccuracy = np.mean(aoutsample == ay_test)\n",
    "        aisaccuracy = np.mean(ainsample == ay_train)\n",
    "        \n",
    "        print('IS:',aisaccuracy)\n",
    "        print('OS:',aosaccuracy)\n",
    "        \n",
    "        aisaccsum = aisaccsum + aisaccuracy\n",
    "        aosaccsum = aosaccsum + aosaccuracy\n",
    "    aisaccs.append(isaccsum/2)\n",
    "    aosaccs.append(osaccsum/2)\n",
    "   \n",
    "dataframe = pd.DataFrame({'Filename':Xs,'IS':isaccs,'OS':osaccs,'Adj.IS':aisaccs,'Adj.OS':aosaccs})\n",
    "dataframe.to_csv(\"semi3y_5d2atr5mktc_0505_1.csv\",index=False,sep=',')"
   ]
  },
  {
   "cell_type": "code",
   "execution_count": 31,
   "metadata": {},
   "outputs": [
    {
     "data": {
      "text/plain": [
       "373"
      ]
     },
     "execution_count": 31,
     "metadata": {},
     "output_type": "execute_result"
    }
   ],
   "source": [
    "len(x_array)"
   ]
  },
  {
   "cell_type": "code",
   "execution_count": 32,
   "metadata": {},
   "outputs": [
    {
     "data": {
      "text/plain": [
       "373"
      ]
     },
     "execution_count": 32,
     "metadata": {},
     "output_type": "execute_result"
    }
   ],
   "source": [
    "len(y_array)"
   ]
  },
  {
   "cell_type": "code",
   "execution_count": null,
   "metadata": {},
   "outputs": [],
   "source": []
  }
 ],
 "metadata": {
  "kernelspec": {
   "display_name": "Python 3",
   "language": "python",
   "name": "python3"
  },
  "language_info": {
   "codemirror_mode": {
    "name": "ipython",
    "version": 3
   },
   "file_extension": ".py",
   "mimetype": "text/x-python",
   "name": "python",
   "nbconvert_exporter": "python",
   "pygments_lexer": "ipython3",
   "version": "3.6.5"
  }
 },
 "nbformat": 4,
 "nbformat_minor": 4
}

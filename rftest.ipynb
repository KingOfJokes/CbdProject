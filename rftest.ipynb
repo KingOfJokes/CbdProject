{
 "cells": [
  {
   "cell_type": "code",
   "execution_count": 2,
   "metadata": {},
   "outputs": [],
   "source": [
    "import sklearn as skl\n",
    "from sklearn.ensemble import RandomForestClassifier\n",
    "import pandas as pd\n",
    "import math\n",
    "import re\n",
    "import numpy as np\n",
    "import pickle\n",
    "import random\n",
    "import time\n",
    "import os\n",
    "from sklearn import metrics"
   ]
  },
  {
   "cell_type": "code",
   "execution_count": 36,
   "metadata": {},
   "outputs": [],
   "source": [
    "Xs = os.listdir('./testhouse_xa')\n",
    "Ys = os.listdir('./testhouse_y')"
   ]
  },
  {
   "cell_type": "code",
   "execution_count": 37,
   "metadata": {},
   "outputs": [
    {
     "name": "stdout",
     "output_type": "stream",
     "text": [
      "output_Xa_3y_3d1.2atr3__dc21.npy\n",
      "output_Y_3y_3d1.2atr3__dc21.npy\n",
      "output_Xa_3y_3d1.2atr3__dc31.npy\n",
      "output_Y_3y_3d1.2atr3__dc31.npy\n",
      "output_Xa_3y_3d1.2atr3__dc41.npy\n",
      "output_Y_3y_3d1.2atr3__dc41.npy\n",
      "output_Xa_3y_3d1.2atr3__dc51.npy\n",
      "output_Y_3y_3d1.2atr3__dc51.npy\n",
      "output_Xa_3y_3d1.2atr3__dc61.npy\n",
      "output_Y_3y_3d1.2atr3__dc61.npy\n",
      "output_Xa_3y_3d1atr3__dc21.npy\n",
      "output_Y_3y_3d1atr3__dc21.npy\n",
      "output_Xa_3y_3d1atr3__dc31.npy\n",
      "output_Y_3y_3d1atr3__dc31.npy\n",
      "output_Xa_3y_3d1atr3__dc41.npy\n",
      "output_Y_3y_3d1atr3__dc41.npy\n",
      "output_Xa_3y_3d1atr3__dc51.npy\n",
      "output_Y_3y_3d1atr3__dc51.npy\n",
      "output_Xa_3y_3d1atr3__dc61.npy\n",
      "output_Y_3y_3d1atr3__dc61.npy\n"
     ]
    }
   ],
   "source": [
    "for i in range(len(Xs)):\n",
    "    print(Xs[i])\n",
    "    print(Ys[i])"
   ]
  },
  {
   "cell_type": "code",
   "execution_count": null,
   "metadata": {},
   "outputs": [
    {
     "name": "stdout",
     "output_type": "stream",
     "text": [
      "output_Xa_3y_3d1.2atr3__dc21.npy output_Y_3y_3d1.2atr3__dc21.npy\n",
      "IS: 0.7534079348931841\n",
      "OS: 0.6802278275020341\n",
      "IS: 0.7591047812817905\n",
      "OS: 0.6623270951993491\n",
      "IS: 0.7576805696846388\n",
      "OS: 0.6696501220504475\n",
      "IS: 0.7503560528992879\n",
      "OS: 0.7009764035801465\n",
      "IS: 0.7601220752797558\n",
      "OS: 0.6688364524003255\n",
      "IS: 0.7586978636826043\n",
      "OS: 0.6712774613506917\n",
      "IS: 0.7570701932858596\n",
      "OS: 0.6655817737998373\n",
      "IS: 0.7570701932858596\n",
      "OS: 0.6737184703010578\n",
      "IS: 0.7574771108850458\n",
      "OS: 0.6643612693246542\n",
      "IS: 0.755645981688708\n",
      "OS: 0.6720911310008136\n",
      "output_Xa_3y_3d1.2atr3__dc31.npy output_Y_3y_3d1.2atr3__dc31.npy\n",
      "IS: 0.730824008138352\n",
      "OS: 0.6672091131000814\n"
     ]
    }
   ],
   "source": [
    "isaccs = []\n",
    "osaccs = []\n",
    "for i in range(len(Xs)):\n",
    "    print(Xs[i],Ys[i])\n",
    "    x = np.load('./testhouse_xa/'+Xs[i],allow_pickle = True)\n",
    "    x_list = x.tolist()\n",
    "    x_array = []\n",
    "    for j in range(len(x_list)):\n",
    "        temp = []\n",
    "        for key in x_list[j].keys():\n",
    "            temp.append(x_list[j][key])\n",
    "        x_array.append(temp)\n",
    "\n",
    "    for v in range(len(x_array)):\n",
    "        if np.sum(np.array(v) ** 2) == 0:\n",
    "            pass\n",
    "        else:\n",
    "            x_array[v] = x_array[v] / (np.sum(np.array(v) ** 2) ** 0.5)\n",
    "\n",
    "    y = np.load('./testhouse_y/'+Ys[i],allow_pickle = True)\n",
    "    y_array = y.tolist()\n",
    "    \n",
    "    isaccsum = 0\n",
    "    osaccsum = 0\n",
    "    for i in range(10):\n",
    "        merge = list(zip(x_array,y_array))\n",
    "        random.shuffle(merge)\n",
    "        x_array,y_array = zip(*merge)\n",
    "\n",
    "        lenth = len(x_array)\n",
    "        ratio = 0.8\n",
    "        split = int(lenth * ratio)\n",
    "        x_train = x_array[:split]\n",
    "        y_train = y_array[:split]\n",
    "        x_test = x_array[split:]\n",
    "        y_test = y_array[split:]\n",
    "        random_forest = RandomForestClassifier(n_estimators = 100)\n",
    "\n",
    "        model = random_forest.fit(x_train,y_train)\n",
    "        outsample = model.predict(x_test)\n",
    "        insample = model.predict(x_train)\n",
    "        \n",
    "        osaccuracy = np.mean(outsample == y_test)\n",
    "        isaccuracy = np.mean(insample == y_train)\n",
    "        \n",
    "        print('IS:',isaccuracy)\n",
    "        print('OS:',osaccuracy)\n",
    "        \n",
    "        isaccsum = isaccsum + isaccuracy\n",
    "        osaccsum = osaccsum + osaccuracy\n",
    "    \n",
    "    isaccs.append(isaccsum/10)\n",
    "    osaccs.append(osaccsum/10)\n",
    "\n",
    "dataframe = pd.DataFrame({'Filename':Xs,'IS':isaccs,'OS':osaccs})\n",
    "dataframe.to_csv(\"result0504_th1.csv\",index=False,sep=',')"
   ]
  },
  {
   "cell_type": "code",
   "execution_count": 31,
   "metadata": {},
   "outputs": [
    {
     "data": {
      "text/plain": [
       "373"
      ]
     },
     "execution_count": 31,
     "metadata": {},
     "output_type": "execute_result"
    }
   ],
   "source": [
    "len(x_array)"
   ]
  },
  {
   "cell_type": "code",
   "execution_count": 32,
   "metadata": {},
   "outputs": [
    {
     "data": {
      "text/plain": [
       "373"
      ]
     },
     "execution_count": 32,
     "metadata": {},
     "output_type": "execute_result"
    }
   ],
   "source": [
    "len(y_array)"
   ]
  },
  {
   "cell_type": "code",
   "execution_count": null,
   "metadata": {},
   "outputs": [],
   "source": []
  }
 ],
 "metadata": {
  "kernelspec": {
   "display_name": "Python 3",
   "language": "python",
   "name": "python3"
  },
  "language_info": {
   "codemirror_mode": {
    "name": "ipython",
    "version": 3
   },
   "file_extension": ".py",
   "mimetype": "text/x-python",
   "name": "python",
   "nbconvert_exporter": "python",
   "pygments_lexer": "ipython3",
   "version": "3.6.5"
  }
 },
 "nbformat": 4,
 "nbformat_minor": 4
}
